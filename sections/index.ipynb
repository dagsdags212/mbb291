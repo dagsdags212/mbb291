{
 "cells": [
  {
   "cell_type": "markdown",
   "id": "83df50cf-8188-4deb-b44a-cc76791d5c0b",
   "metadata": {},
   "source": [
    "# MBB 291"
   ]
  },
  {
   "cell_type": "markdown",
   "id": "f9c0d9c7-3770-473c-a790-334fc66fdede",
   "metadata": {},
   "source": [
    "**Course Title**: Long Read Sequencing Applications in Plant and Animal Pathogen Genomics and Metagenomics\n",
    "\n",
    "**Schedule**: MW, 8:30 - 10:00 AM, IBS Bioinformatics Laboratory, 2nd Floor MBB Wing\n",
    "\n",
    "**Prerequisite(s)**: MBB 211 or COI\n",
    "\n",
    "**Credit**: 3.0 units\n",
    "\n",
    "**Instructor**: Andrew Montecillo (admontecillo@up.edu.ph)"
   ]
  },
  {
   "cell_type": "markdown",
   "id": "db00a9e3-2cba-429e-9b33-8a0777f40518",
   "metadata": {},
   "source": [
    "## Course Overview\n",
    "\n",
    "This course provides comprehensive training on long read sequencing technologies and their applications in the study and identification of plant and animal pathogens, with emphasis on viruses and bacteria.\n",
    "\n",
    "Participants will learn the principles, techniques, and bioinformatics tools required to carry out long read sequencing projects, with a focus on practical applications in plant, and veterinary and zoonotic diseases, and metagenomics.\n"
   ]
  },
  {
   "cell_type": "markdown",
   "id": "2781ba8f-778e-4567-a2db-ee92cb747067",
   "metadata": {},
   "source": [
    "## Objectives\n",
    "\n",
    "At the end of this course, the student will be able to:\n",
    "\n",
    "1. Explain the fundamentals of long-read sequencing and its advantages over short-read sequencing in pathogen genomics and metagenomics applications.\n",
    "2. Utilize long-read sequencing platforms and tools for accurate assembly of complex genomes of plant and animals pathogens.\n",
    "3. Analyze long-read sequencing data to identify genomics variations, structural variants, and pathogenicity or virulence factors.\n",
    "4. Utilize long-read sequencing platforms and tools for acurate assembly and analysis of near full-length 16S/ITS amplicons for microbial community studies.\n",
    "5. Evaluate recent research and case studies demonstrating the impact of long-read sequencing on understanding and managing plant and animal pathogens and metagenomics."
   ]
  },
  {
   "cell_type": "markdown",
   "id": "2f953096-308b-4423-8472-be2b2d0a6e77",
   "metadata": {},
   "source": [
    "## Course Materials\n",
    "\n",
    "- Lecture notes and slides\n",
    "- Protocol guides and standard operating procedures (SOPs)\n",
    "- Bioinformatics software tutorials (select tools and applications)\n",
    "- Access to sequencing data and computational resources\n",
    "- Datasets for each step of analysis\n"
   ]
  },
  {
   "cell_type": "markdown",
   "id": "b344f7e2-fcf1-48bf-8d4c-8602eb1d903b",
   "metadata": {
    "jp-MarkdownHeadingCollapsed": true
   },
   "source": [
    "## Practical Sessions and Project Work\n",
    "\n",
    "- Hands-on practice with long read sequencing protocols\n",
    "- Data analysis workshops using real-world datasets\n",
    "- Group projects: design and execute a sequencing-based pathogen study / microbial community analysis\n",
    "- Presentation of project findings and course wrap-up\n"
   ]
  },
  {
   "cell_type": "code",
   "execution_count": null,
   "id": "8208a240-cb11-46f2-9e76-34e5930d0580",
   "metadata": {},
   "outputs": [],
   "source": []
  }
 ],
 "metadata": {
  "kernelspec": {
   "display_name": "Bash",
   "language": "bash",
   "name": "bash"
  },
  "language_info": {
   "codemirror_mode": "shell",
   "file_extension": ".sh",
   "mimetype": "text/x-sh",
   "name": "bash"
  }
 },
 "nbformat": 4,
 "nbformat_minor": 5
}
