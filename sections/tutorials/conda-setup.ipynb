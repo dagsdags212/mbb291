{
 "cells": [
  {
   "cell_type": "markdown",
   "id": "35388fdf-37da-46b0-b043-c4c764f54616",
   "metadata": {},
   "source": [
    "# Installing Conda"
   ]
  },
  {
   "cell_type": "markdown",
   "id": "1e9c62ca-2bad-4efa-9d22-ea5ee7fcf387",
   "metadata": {},
   "source": [
    "## What is Conda?\n",
    "\n",
    ":::{figure} ../../images/anaconda-logo.png\n",
    ":align: center\n",
    ":::\n",
    "\n",
    "According to the official website:\n",
    "\n",
    "> Conda is a powerful command line tool for package and environment management that runs on\n",
    "> Windows, MacOS, and Linux.\n",
    "\n",
    "In other words, it is a cross-platform program for installing and managing packages for you."
   ]
  },
  {
   "cell_type": "markdown",
   "id": "7814de31-9ddc-4ba3-b519-028e6a1ed7d9",
   "metadata": {},
   "source": [
    "### Why Bother?\n",
    "\n",
    "Complex programs often rely on the functionality of other (smaller) programs. We call these _dependencies_. \n",
    "\n",
    "When new updates are introduced to the dependencies, the developer of our program should also update their code base to support these changes, otherwise their program may fail. To remedy this problem, each iteration of a program is labeled with a specific **version** as to support backwards compatibility with other programs.\n",
    "\n",
    "The role of conda is to choose the specific version of each tool to be downloaded as to ensure compatibility. Behind the scenes, conda does the following:\n",
    "\n",
    "1. Builds a dependency graph for a list of programs to be installed\n",
    "2. Queries remote repositories to fetch specific versions of the tools.\n",
    "3. Downloads the tools in an isolated environment, separate from all other programs in your system.\n"
   ]
  },
  {
   "cell_type": "markdown",
   "id": "f2471a01-e60a-47a7-9ef4-8d833038478c",
   "metadata": {},
   "source": [
    "### Installation\n",
    "\n",
    "A light-weight version of conda is available thru the [miniconda](https://docs.anaconda.com/miniconda/) distribution. To install, select your OS and run the associated commands:\n",
    "\n",
    "```{code} bash\n",
    ":label: install-conda-on-linux\n",
    ":caption: Install conda on **Linux**.\n",
    "\n",
    "mkdir -p ~/miniconda3\n",
    "wget https://repo.anaconda.com/miniconda/Miniconda3-latest-Linux-x86_64.sh -O ~/miniconda3/miniconda.sh\n",
    "bash ~/miniconda3/miniconda.sh -b -u -p ~/miniconda3\n",
    "rm ~/miniconda3/miniconda.sh\n",
    "```\n",
    "\n",
    "```{code} bash\n",
    ":label: install-conda-on-mac\n",
    ":caption: Install conda on **MacOS**.\n",
    "\n",
    "mkdir -p ~/miniconda3\n",
    "curl https://repo.anaconda.com/miniconda/Miniconda3-latest-MacOSX-arm64.sh -o ~/miniconda3/miniconda.sh\n",
    "bash ~/miniconda3/miniconda.sh -b -u -p ~/miniconda3\n",
    "rm ~/miniconda3/miniconda.sh\n",
    "```\n",
    "\n",
    "```{code} bash\n",
    ":label: install-conda-on-windows\n",
    ":caption: Install conda on **Windows**.\n",
    "\n",
    "wget \"https://repo.anaconda.com/miniconda/Miniconda3-latest-Windows-x86_64.exe\" -outfile \".\\miniconda.exe\"\n",
    "Start-Process -FilePath \".\\miniconda.exe\" -ArgumentList \"/S\" -Wait\n",
    "del .\\miniconda.exe\n",
    "```"
   ]
  },
  {
   "cell_type": "markdown",
   "id": "7ec1885d-837c-40a7-96c0-bb0ab53b2eb9",
   "metadata": {},
   "source": [
    "### Setup\n",
    "\n",
    "When installing programs thru `conda`, it queries online package repositories to check if the program is available. We could explicitly tell conda to search for specific repositories by adding **channels** to our configuration file.\n",
    "\n",
    "The [bioconda](https://bioconda.github.io/) channel hosts a wide variety of bioinformatics tools. Run the following command to add bioconda to our list of repos:\n",
    "\n",
    "```{code-cell} bash\n",
    ":label: add-bioconda\n",
    "conda config --add channels bioconda\n",
    "```\n",
    "Let's also add the [conda-forge](https://conda-forge.org/) in case we need to download python-specific packages:\n",
    "\n",
    "```{code-cell} bash\n",
    ":label: add-conda-forge\n",
    "conda config --add channels conda-forge\n",
    "```\n",
    "\n",
    "Finally, let's tell conda to prioritize bioconda over conda-forge when installing tools.\n",
    "```{code-cell} bash\n",
    ":label: set-priority-strict\n",
    "conda config --set channel_priority strict\n",
    "```"
   ]
  },
  {
   "cell_type": "markdown",
   "id": "625146f8-f3d3-4fb1-9f87-12f970416ee4",
   "metadata": {},
   "source": [
    "### Basic Usage\n",
    "\n",
    "The entry point for the program is the `conda` command. It is used in tandem with a subcommand such as `info`, `create`, and `activate`."
   ]
  },
  {
   "cell_type": "markdown",
   "id": "94618d8c-1d75-4e7d-b3f5-1e6a7e12ec4f",
   "metadata": {},
   "source": [
    "**Check version and verify install:**"
   ]
  },
  {
   "cell_type": "code",
   "execution_count": 1,
   "id": "fe8041a7-e991-4c06-95dc-42188230bb77",
   "metadata": {
    "collapsed": true,
    "jupyter": {
     "outputs_hidden": true
    },
    "scrolled": true
   },
   "outputs": [
    {
     "name": "stdout",
     "output_type": "stream",
     "text": [
      "\n",
      "     active environment : /home/dagsdags/.micromamba/envs/mbb291\n",
      "    active env location : /home/dagsdags/.micromamba/envs/mbb291\n",
      "            shell level : 1\n",
      "       user config file : /home/dagsdags/.condarc\n",
      " populated config files : /home/dagsdags/miniconda3/.condarc\n",
      "                          /home/dagsdags/.condarc\n",
      "          conda version : 24.11.1\n",
      "    conda-build version : not installed\n",
      "         python version : 3.12.8.final.0\n",
      "                 solver : libmamba (default)\n",
      "       virtual packages : __archspec=1=zen4\n",
      "                          __conda=24.11.1=0\n",
      "                          __glibc=2.35=0\n",
      "                          __linux=6.8.0=0\n",
      "                          __unix=0=0\n",
      "       base environment : /home/dagsdags/miniconda3  (writable)\n",
      "      conda av data dir : /home/dagsdags/miniconda3/etc/conda\n",
      "  conda av metadata url : None\n",
      "           channel URLs : https://conda.anaconda.org/nodefaults/linux-64\n",
      "                          https://conda.anaconda.org/nodefaults/noarch\n",
      "                          https://conda.anaconda.org/conda-forge/linux-64\n",
      "                          https://conda.anaconda.org/conda-forge/noarch\n",
      "                          https://conda.anaconda.org/bioconda/linux-64\n",
      "                          https://conda.anaconda.org/bioconda/noarch\n",
      "                          https://conda.anaconda.org/r/linux-64\n",
      "                          https://conda.anaconda.org/r/noarch\n",
      "                          https://repo.anaconda.com/pkgs/main/linux-64\n",
      "                          https://repo.anaconda.com/pkgs/main/noarch\n",
      "                          https://repo.anaconda.com/pkgs/r/linux-64\n",
      "                          https://repo.anaconda.com/pkgs/r/noarch\n",
      "          package cache : /home/dagsdags/miniconda3/pkgs\n",
      "                          /home/dagsdags/.conda/pkgs\n",
      "       envs directories : /home/dagsdags/miniconda3/envs\n",
      "                          /home/dagsdags/.conda/envs\n",
      "               platform : linux-64\n",
      "             user-agent : conda/24.11.1 requests/2.32.3 CPython/3.12.8 Linux/6.8.0-51-generic linuxmint/21.3 glibc/2.35 solver/libmamba conda-libmamba-solver/24.9.0 libmambapy/1.5.11 aau/0.5.0 c/. s/. e/.\n",
      "                UID:GID : 1000:1000\n",
      "             netrc file : None\n",
      "           offline mode : False\n",
      "\n"
     ]
    }
   ],
   "source": [
    "conda info"
   ]
  },
  {
   "cell_type": "markdown",
   "id": "4044c036-f378-4120-8bf3-c899814923b9",
   "metadata": {},
   "source": [
    "**Initialize `conda`** (do this prior to activating an environment):\n",
    "\n",
    "```{code-cell} bash\n",
    ":label: conda-init\n",
    "conda init\n",
    "```"
   ]
  },
  {
   "cell_type": "markdown",
   "id": "ba6eaa70-5028-4ca2-bac1-4e6128e79038",
   "metadata": {},
   "source": [
    "**Create a new environment called `mbb291`:**\n",
    "\n",
    "\n",
    "```{code-cell} bash\n",
    ":label: conda-create\n",
    "conda create --name mbb291\n",
    "```"
   ]
  },
  {
   "cell_type": "markdown",
   "id": "3d397a41-46c1-4528-b99c-b1ff4442aacc",
   "metadata": {},
   "source": [
    "**Activate the newly created environment:**"
   ]
  },
  {
   "cell_type": "code",
   "execution_count": 4,
   "id": "f096623d-ceb8-49ef-8ffb-267c3b58be75",
   "metadata": {},
   "outputs": [],
   "source": [
    "conda activate mbb291"
   ]
  },
  {
   "cell_type": "markdown",
   "id": "b78870c6-a2a0-41ce-80de-64374f8eba8c",
   "metadata": {},
   "source": [
    "**Install a few tools from the [bioconda](https://bioconda.github.io/) repository in your current environment:**\n",
    "\n",
    "```{code-cell} bash\n",
    ":label: conda-install\n",
    "conda install -c bioconda chopper minimap2 flye\n",
    "```"
   ]
  },
  {
   "cell_type": "markdown",
   "id": "f476de5d-e5d1-48ba-b72b-062a3ed7f496",
   "metadata": {},
   "source": [
    "**List all installed tools:**"
   ]
  },
  {
   "cell_type": "code",
   "execution_count": 5,
   "id": "515dea83-ffe2-4f10-acef-a4c3bd17a8ed",
   "metadata": {},
   "outputs": [
    {
     "name": "stdout",
     "output_type": "stream",
     "text": [
      "# packages in environment at /home/dagsdags/miniconda3/envs/mbb291:\n",
      "#\n",
      "# Name                    Version                   Build  Channel\n",
      "_libgcc_mutex             0.1                 conda_forge    conda-forge\n",
      "_openmp_mutex             4.5                       2_gnu    conda-forge\n",
      "binutils_impl_linux-64    2.43                 h4bf12b8_2    conda-forge\n",
      "bzip2                     1.0.8                h4bc722e_7    conda-forge\n",
      "ca-certificates           2024.12.14           hbcca054_0    conda-forge\n",
      "chopper                   0.9.0                hdcf5f25_1    bioconda\n",
      "clang                     19.1.7          default_h9e3a008_1    conda-forge\n",
      "clang-19                  19.1.7          default_hb5137d0_1    conda-forge\n",
      "flye                      2.9.5           py312h5e9d817_2    bioconda\n",
      "k8                        1.2                  h6618dc6_3    bioconda\n",
      "kernel-headers_linux-64   3.10.0              he073ed8_18    conda-forge\n",
      "ld_impl_linux-64          2.43                 h712a8e2_2    conda-forge\n",
      "libclang-cpp19.1          19.1.7          default_hb5137d0_1    conda-forge\n",
      "libexpat                  2.6.4                h5888daf_0    conda-forge\n",
      "libffi                    3.4.2                h7f98852_5    conda-forge\n",
      "libgcc                    14.2.0               h77fa898_1    conda-forge\n",
      "libgcc-devel_linux-64     14.2.0             h41c2201_101    conda-forge\n",
      "libgcc-ng                 14.2.0               h69a702a_1    conda-forge\n",
      "libgomp                   14.2.0               h77fa898_1    conda-forge\n",
      "libiconv                  1.17                 hd590300_2    conda-forge\n",
      "libllvm19                 19.1.7               ha7bfdaf_1    conda-forge\n",
      "liblzma                   5.6.3                hb9d3cd8_1    conda-forge\n",
      "libnsl                    2.0.1                hd590300_0    conda-forge\n",
      "libsqlite                 3.48.0               hee588c1_1    conda-forge\n",
      "libstdcxx                 14.2.0               hc0a3c3a_1    conda-forge\n",
      "libstdcxx-ng              14.2.0               h4852527_1    conda-forge\n",
      "libuuid                   2.38.1               h0b41bf4_0    conda-forge\n",
      "libxcrypt                 4.4.36               hd590300_1    conda-forge\n",
      "libxml2                   2.13.5               h0d44e9d_1    conda-forge\n",
      "libzlib                   1.3.1                hb9d3cd8_2    conda-forge\n",
      "minimap2                  2.28                 h577a1d6_4    bioconda\n",
      "ncurses                   6.5                  h2d0b736_2    conda-forge\n",
      "openssl                   3.4.0                h7b32b05_1    conda-forge\n",
      "pip                       25.0               pyh8b19718_0    conda-forge\n",
      "python                    3.12.8          h9e4cc4f_1_cpython    conda-forge\n",
      "python_abi                3.12                    5_cp312    conda-forge\n",
      "readline                  8.2                  h8228510_1    conda-forge\n",
      "setuptools                75.8.0             pyhff2d567_0    conda-forge\n",
      "sysroot_linux-64          2.17                h0157908_18    conda-forge\n",
      "tk                        8.6.13          noxft_h4845f30_101    conda-forge\n",
      "tzdata                    2025a                h78e105d_0    conda-forge\n",
      "wheel                     0.45.1             pyhd8ed1ab_1    conda-forge\n",
      "zlib                      1.3.1                hb9d3cd8_2    conda-forge\n",
      "zstd                      1.5.6                ha6fb4c9_0    conda-forge\n"
     ]
    }
   ],
   "source": [
    "conda list"
   ]
  },
  {
   "cell_type": "markdown",
   "id": "640b4eff-549c-4662-bead-7cebbd86af4b",
   "metadata": {},
   "source": [
    "Check which version of `flye` is installed:"
   ]
  },
  {
   "cell_type": "code",
   "execution_count": 6,
   "id": "c8783171-2d33-4303-acce-6a74a4525a20",
   "metadata": {},
   "outputs": [
    {
     "name": "stdout",
     "output_type": "stream",
     "text": [
      "# packages in environment at /home/dagsdags/miniconda3/envs/mbb291:\n",
      "#\n",
      "# Name                    Version                   Build  Channel\n",
      "flye                      2.9.5           py312h5e9d817_2    bioconda\n"
     ]
    }
   ],
   "source": [
    "conda list flye"
   ]
  },
  {
   "cell_type": "markdown",
   "id": "6eec0611-a07f-4ded-9625-5a5cdc03230b",
   "metadata": {},
   "source": [
    "Exit the environment:\n",
    "```{code-cell} bash\n",
    ":label: conda-deactivate\n",
    "conda deactivate\n",
    "```"
   ]
  }
 ],
 "metadata": {
  "kernelspec": {
   "display_name": "Bash",
   "language": "bash",
   "name": "bash"
  },
  "language_info": {
   "codemirror_mode": "shell",
   "file_extension": ".sh",
   "mimetype": "text/x-sh",
   "name": "bash"
  }
 },
 "nbformat": 4,
 "nbformat_minor": 5
}
