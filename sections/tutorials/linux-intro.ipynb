{
 "cells": [
  {
   "cell_type": "markdown",
   "id": "135ae594-caef-4f3b-8577-db7dcd4cb028",
   "metadata": {},
   "source": [
    "---\n",
    "abbreviations:\n",
    "  GUI: Graphical User Interface\n",
    "  CLI: Command Line Interface\n",
    "  URL: Unified Resource Locator\n",
    "  SRA: Sequencing Read Archive\n",
    "---"
   ]
  },
  {
   "cell_type": "markdown",
   "id": "834a6ae4-ed87-4f13-89a3-c64494de2de9",
   "metadata": {},
   "source": [
    "# Intro to Linux\n",
    "\n",
    ":::{figure} ../../images/tux.webp\n",
    ":label: tux\n",
    ":align: center\n",
    "\n",
    "Meet Tux, the official mascot of Linux.\n",
    ":::\n",
    "\n",
    "Linux is an open-source operating system built on top of the Linux kernel. It was initially developed by Linus Torvalds in 1991 and has now grown to involve a few hundred contributors from the open-source community. \n",
    "\n",
    "In genomics, Linux has been the prefered platform by scientists to run and orchestrate sophisticated pipelines due to its low memory footprint, stability, and maturity."
   ]
  },
  {
   "cell_type": "markdown",
   "id": "3799eb7c-b0da-4a58-bd44-016eccf836b8",
   "metadata": {},
   "source": [
    "## Command Line Interface\n",
    "\n",
    "The command line, sometimes called the terminal, is a text-based user interface for interacting with the Linux kernel. Upon opening a new shell session, the user is greeted with the following:\n",
    "\n",
    "```bash\n",
    "$\n",
    "```\n",
    "\n",
    "The dollar symbol (`$`) is what we call the terminal prompt. It is an indication that the current shell is ready to accept commands from the user. \n",
    "\n",
    "A linux command usually follows the pattern:\n",
    "\n",
    "```{code} bash\n",
    ":label: linux-command-structure\n",
    "\n",
    "$ <command> <argument> <value>\n",
    "```\n",
    "\n",
    "`<command>` is the name of the executable (or program) to be invoked by the user. Parameters that modify the behavior of the program are usually passed after the command name in the form of arguments (`<argument>`). By convention, arguments (or flags) are preceeded by two dashes (`--`). It is immediately followed by a value."
   ]
  },
  {
   "cell_type": "markdown",
   "id": "843647aa-13ca-4dbd-866c-12b499729411",
   "metadata": {},
   "source": [
    ":::{note} \n",
    "For brevity, the terminal prompt (`$`) will be excluded from all succeeding commands.\n",
    "\n",
    "You could copy the commands by clicking on the paper icon on the right-most side of a code block.\n",
    ":::"
   ]
  },
  {
   "cell_type": "markdown",
   "id": "2c7e091f-135d-4722-9f0b-57478f9fd59d",
   "metadata": {},
   "source": [
    "As an example, the `mkdir` command is used for creating new directories. Let's check its usage by passing in the `--help` flag:"
   ]
  },
  {
   "cell_type": "code",
   "execution_count": 4,
   "id": "a6d5872e-af0f-4c0d-8f90-1f92819c73b4",
   "metadata": {},
   "outputs": [
    {
     "name": "stdout",
     "output_type": "stream",
     "text": [
      "Usage: mkdir [OPTION]... DIRECTORY...\n",
      "Create the DIRECTORY(ies), if they do not already exist.\n",
      "\n",
      "Mandatory arguments to long options are mandatory for short options too.\n",
      "  -m, --mode=MODE   set file mode (as in chmod), not a=rwx - umask\n",
      "  -p, --parents     no error if existing, make parent directories as needed\n",
      "  -v, --verbose     print a message for each created directory\n",
      "  -Z                   set SELinux security context of each created directory\n",
      "                         to the default type\n",
      "      --context[=CTX]  like -Z, or if CTX is specified then set the SELinux\n",
      "                         or SMACK security context to CTX\n",
      "      --help     display this help and exit\n",
      "      --version  output version information and exit\n",
      "\n",
      "GNU coreutils online help: <https://www.gnu.org/software/coreutils/>\n",
      "Full documentation <https://www.gnu.org/software/coreutils/mkdir>\n",
      "or available locally via: info '(coreutils) mkdir invocation'\n"
     ]
    }
   ],
   "source": [
    "mkdir --help"
   ]
  },
  {
   "cell_type": "markdown",
   "id": "029b1a4b-f30b-44da-ae10-b1dadd8f74f9",
   "metadata": {},
   "source": [
    "The first line tells us how we could run the `mkdir` command. It expects _DIRECTORY_ which is a **positional** argument, meaning the program always expects the last entered value to be the path at which the folder will be created.\n",
    "\n",
    "Note that _OPTION_ is enclosed in square brackets (`[]`). This tells the user that this part is optional. In the following lines, we get more information about the optional flags that we can use with the command:\n",
    "\n",
    "- `-m` or `--mode` sets the file premissions for the directory (r = read, w = write, x = execute)\n",
    "- `-p` or `--parents` automatically creates parent directories for the provided path\n",
    "- `-v` or `--verbose` prints a message for each created directory "
   ]
  },
  {
   "cell_type": "markdown",
   "id": "79bcf28c-5348-4785-ad40-55b770c43414",
   "metadata": {},
   "source": [
    "Let's create a directory for storing sequencing reads. \n",
    "\n",
    "This will be located at our home directory with the path `~/data/reads`. Since we will be created a nested folder, we need to pass in the `-p` flag to automatically create the `data` directory, along with the nested `reads` directory:"
   ]
  },
  {
   "cell_type": "code",
   "execution_count": 3,
   "id": "8e8538e9-471c-45cb-99f3-924470fd8435",
   "metadata": {},
   "outputs": [
    {
     "name": "stdout",
     "output_type": "stream",
     "text": [
      "mkdir: created directory '/home/dagsdags/data'\n",
      "mkdir: created directory '/home/dagsdags/data/reads'\n"
     ]
    }
   ],
   "source": [
    "mkdir -p --verbose ~/data/reads"
   ]
  },
  {
   "cell_type": "markdown",
   "id": "790a6299-090b-4c8a-b317-8a459ab07db3",
   "metadata": {},
   "source": [
    "Notice that we can mix short-hand and long-hand options in a single command. From the output, we can see that two directories were generated as expected."
   ]
  },
  {
   "cell_type": "markdown",
   "id": "c463be4e-1c85-487f-8b1f-e66b065db42f",
   "metadata": {},
   "source": [
    "## File Navigation\n",
    "\n",
    "In most modern computers, a GUI is provided to allow users to navigate between files and directories. However, the shell only supports text input, hence commands are used for moving in and out of directories.\n",
    "\n",
    "A **file path** is a string that represents the location of a particular file or directory within your system. On a high level, the directory structure for _most_ linux systems follows @file-tree.\n",
    "\n",
    ":::{figure} ../../images/linux-file-tree.png\n",
    ":label: file-tree\n",
    ":align: center\n",
    "\n",
    "The Linux file tree.\n",
    ":::\n",
    "\n",
    "The **root path** is the top-most directory that store all other files within your system. It is usually denoted with a forward slash (`/`) and its serves as the starting point for **absolute paths**. As an example, we could write the absolute path to mary's data directory as `/home/mary/data`.\n",
    "\n",
    "In contrast, **relative paths**, as the name suggests, are _relative_ to your current directory. This provides a way to anchor the location of a file based on where another file is stored. The path to the `lib` directory relative to robert's home directory is `../local/lib` where `..` is the parent directory of robert.\n",
    "\n",
    "Some paths are accessed more often than others. Examples include the root and home directories. For convenience, special symbols are used to denote these file locations as tabulated in @path-symbols.\n",
    "\n",
    ":::{table} Path aliases.\n",
    ":label: path-symbols\n",
    ":align: center\n",
    "\n",
    "| Symbol | Path Description |\n",
    "| --- | ---------- |\n",
    "| `.` | the current directory |\n",
    "| `..` | the parent of your current directory |\n",
    "| `/` | the root directory |\n",
    "| `~` | the home directory |\n",
    "| `-` | the previously navigated directory |\n",
    "\n",
    ":::"
   ]
  },
  {
   "cell_type": "markdown",
   "id": "26d60273-2844-49e7-9072-2b4346330ce0",
   "metadata": {},
   "source": [
    "## A Survey of Linux Commands\n",
    "\n",
    "Skim over @commands to familiarize yourself with the built-in commands included in your Linux installation. \n",
    "\n",
    "Afterwards, proceed to [](#a-practical-example).\n",
    "\n",
    ":::{table} Command Cheatsheet.\n",
    ":label: commands\n",
    ":align: center\n",
    "\n",
    "| Command  | Description                                                           |\n",
    "| -------- | --------------------------------------------------------------------- |\n",
    "| `awk`    | run an awk script                                                     |\n",
    "| `cat`    | concatenate the contents of one or more files                         |\n",
    "| `cd`     | change to another directory                                           |\n",
    "| `cp`     | copy a file or the contents of a directory                            |  \n",
    "| `curl`   | a tool for downloading data associated with a URL                     |\n",
    "| `echo`   | print string/output to the console                                    |\n",
    "| `find`   | discover files and/or directories from an expression/pattern          |\n",
    "| `grep`   | a tool for searching text in a file that follows a specified pattern  |\n",
    "| `head`   | disply the first few lines of a file                                  |\n",
    "| `less`   | load the contents of a text file to a new, interactive buffer         |\n",
    "| `ls`     | list all files and directory in your current path                     |\n",
    "| `man`    | access the manual of a program                                        |\n",
    "| `mkdir`  | make a new directory                                                  |\n",
    "| `mv`     | move a file or a directory to a new location                          |\n",
    "| `nano`   | a terminal-based text editor that comes with most Linux distributions |\n",
    "| `printf` | print a formatted string                                              |\n",
    "| `pwd`    | print your current working directory                                  |\n",
    "| `sed`    | find and replace text based on a _regular expression_                 |\n",
    "| `sudo`   | run a progam with escalated privelege                                 |\n",
    "| `tail`   | disply the last few lines of a file                                   |\n",
    "| `rm`     | remove a file or a directory                                          |\n",
    " \n",
    ":::\n"
   ]
  },
  {
   "cell_type": "markdown",
   "id": "dedea1b4-943f-4f98-bb18-3cc58558840f",
   "metadata": {},
   "source": [
    "To get an overview of a program, invoke the program name followed by the `-h` or `--help` flag:"
   ]
  },
  {
   "cell_type": "code",
   "execution_count": 1,
   "id": "ac0c8d9e-da37-4c62-add4-f2e379f375e6",
   "metadata": {},
   "outputs": [
    {
     "name": "stdout",
     "output_type": "stream",
     "text": [
      "Usage: curl [options...] <url>\n",
      " -d, --data <data>          HTTP POST data\n",
      " -f, --fail                 Fail silently (no output at all) on HTTP errors\n",
      " -h, --help <category>      Get help for commands\n",
      " -i, --include              Include protocol response headers in the output\n",
      " -o, --output <file>        Write to file instead of stdout\n",
      " -O, --remote-name          Write output to a file named as the remote file\n",
      " -s, --silent               Silent mode\n",
      " -T, --upload-file <file>   Transfer local FILE to destination\n",
      " -u, --user <user:password> Server user and password\n",
      " -A, --user-agent <name>    Send User-Agent <name> to server\n",
      " -v, --verbose              Make the operation more talkative\n",
      " -V, --version              Show version number and quit\n",
      "\n",
      "This is not the full help, this menu is stripped into categories.\n",
      "Use \"--help category\" to get an overview of all categories.\n",
      "For all options use the manual or \"--help all\".\n"
     ]
    }
   ],
   "source": [
    "curl --help"
   ]
  },
  {
   "cell_type": "markdown",
   "id": "6a937529-698f-4c8a-bd73-cabe3860eb1e",
   "metadata": {},
   "source": [
    ":::{aside}\n",
    "Not all programs provide a usage manual.\n",
    ":::"
   ]
  },
  {
   "cell_type": "markdown",
   "id": "721c3d27-bf21-4fe5-ba87-33be4ecd7134",
   "metadata": {},
   "source": [
    "For a more comprehensive list of supported options/flags, invoke the `man` command followed by the program name:"
   ]
  },
  {
   "cell_type": "code",
   "execution_count": 3,
   "id": "9ca2da05-5a52-4ea1-a7a2-75b8dc8f5c48",
   "metadata": {},
   "outputs": [
    {
     "name": "stdout",
     "output_type": "stream",
     "text": [
      "SED(1)                           User Commands                          SED(1)\n",
      "\n",
      "NAME\n",
      "       sed - stream editor for filtering and transforming text\n",
      "\n",
      "SYNOPSIS\n",
      "       sed [OPTION]... {script-only-if-no-other-script} [input-file]...\n",
      "\n",
      "DESCRIPTION\n",
      "       Sed  is a stream editor.  A stream editor is used to perform basic text\n",
      "       transformations on an input stream (a file or input from  a  pipeline).\n",
      "       While  in  some  ways similar to an editor which permits scripted edits\n",
      "       (such as ed), sed works by making only one pass over the input(s),  and\n",
      "       is consequently more efficient.  But it is sed's ability to filter text\n",
      "       in a pipeline which particularly distinguishes it from other  types  of\n",
      "       editors.\n",
      "\n",
      "       -n, --quiet, --silent\n",
      "\n",
      "              suppress automatic printing of pattern space\n",
      "\n",
      "       --debug\n",
      "\n",
      "              annotate program execution\n",
      "\n",
      "       -e script, --expression=script\n",
      "\n",
      "              add the script to the commands to be executed\n",
      "\n",
      "       -f script-file, --file=script-file\n",
      "\n",
      "              add the contents of script-file to the commands to be executed\n",
      "\n",
      "       --follow-symlinks\n",
      "\n",
      "              follow symlinks when processing in place\n",
      "\n",
      "       -i[SUFFIX], --in-place[=SUFFIX]\n",
      "\n",
      "              edit files in place (makes backup if SUFFIX supplied)\n",
      "\n",
      "       -l N, --line-length=N\n",
      "\n",
      "              specify the desired line-wrap length for the `l' command\n",
      "\n",
      "       --posix\n",
      "\n",
      "              disable all GNU extensions.\n",
      "\n",
      "       -E, -r, --regexp-extended\n",
      "\n",
      "              use  extended regular expressions in the script (for portability\n",
      "              use POSIX -E).\n",
      "\n",
      "       -s, --separate\n",
      "\n",
      "              consider files as separate rather than as a  single,  continuous\n",
      "              long stream.\n",
      "\n",
      "       --sandbox\n",
      "\n",
      "              operate in sandbox mode (disable e/r/w commands).\n",
      "\n",
      "       -u, --unbuffered\n",
      "\n",
      "              load  minimal amounts of data from the input files and flush the\n",
      "              output buffers more often\n",
      "\n",
      "       -z, --null-data\n",
      "\n",
      "              separate lines by NUL characters\n",
      "\n",
      "       --help\n",
      "              display this help and exit\n",
      "\n",
      "       --version\n",
      "              output version information and exit\n",
      "\n",
      "       If no -e, --expression, -f, or --file option is given, then  the  first\n",
      "       non-option  argument  is taken as the sed script to interpret.  All re‐\n",
      "       maining arguments are names of input files; if no input files are spec‐\n",
      "       ified, then the standard input is read.\n",
      "\n",
      "       GNU  sed  home page: <https://www.gnu.org/software/sed/>.  General help\n",
      "       using GNU software: <https://www.gnu.org/gethelp/>.  E-mail bug reports\n",
      "       to: <bug-sed@gnu.org>.\n",
      "\n",
      "COMMAND SYNOPSIS\n",
      "       This is just a brief synopsis of sed commands to serve as a reminder to\n",
      "       those who already know sed; other documentation (such  as  the  texinfo\n",
      "       document) must be consulted for fuller descriptions.\n",
      "\n",
      "   Zero-address ``commands''\n",
      "       : label\n",
      "              Label for b and t commands.\n",
      "\n",
      "       #comment\n",
      "              The  comment  extends until the next newline (or the end of a -e\n",
      "              script fragment).\n",
      "\n",
      "       }      The closing bracket of a { } block.\n",
      "\n",
      "   Zero- or One- address commands\n",
      "       =      Print the current line number.\n",
      "\n",
      "       a \\\n",
      "\n",
      "       text   Append text, which has each embedded newline preceded by a back‐\n",
      "              slash.\n",
      "\n",
      "       i \\\n",
      "\n",
      "       text   Insert text, which has each embedded newline preceded by a back‐\n",
      "              slash.\n",
      "\n",
      "       q [exit-code]\n",
      "              Immediately quit the sed script without processing any more  in‐\n",
      "              put,  except that if auto-print is not disabled the current pat‐\n",
      "              tern space will be printed.  The exit code argument is a GNU ex‐\n",
      "              tension.\n",
      "\n",
      "       Q [exit-code]\n",
      "              Immediately  quit the sed script without processing any more in‐\n",
      "              put.  This is a GNU extension.\n",
      "\n",
      "       r filename\n",
      "              Append text read from filename.\n",
      "\n",
      "       R filename\n",
      "              Append a line read from filename.  Each invocation of  the  com‐\n",
      "              mand reads a line from the file.  This is a GNU extension.\n",
      "\n",
      "   Commands which accept address ranges\n",
      "       {      Begin a block of commands (end with a }).\n",
      "\n",
      "       b label\n",
      "              Branch to label; if label is omitted, branch to end of script.\n",
      "\n",
      "       c \\\n",
      "\n",
      "       text   Replace  the  selected  lines with text, which has each embedded\n",
      "              newline preceded by a backslash.\n",
      "\n",
      "       d      Delete pattern space.  Start next cycle.\n",
      "\n",
      "       D      If pattern space contains no newline, start a normal  new  cycle\n",
      "              as  if  the d command was issued.  Otherwise, delete text in the\n",
      "              pattern space up to the first newline, and  restart  cycle  with\n",
      "              the  resultant  pattern space, without reading a new line of in‐\n",
      "              put.\n",
      "\n",
      "       h H    Copy/append pattern space to hold space.\n",
      "\n",
      "       g G    Copy/append hold space to pattern space.\n",
      "\n",
      "       l      List out the current line in a ``visually unambiguous'' form.\n",
      "\n",
      "       l width\n",
      "              List out the current line in a  ``visually  unambiguous''  form,\n",
      "              breaking it at width characters.  This is a GNU extension.\n",
      "\n",
      "       n N    Read/append the next line of input into the pattern space.\n",
      "\n",
      "       p      Print the current pattern space.\n",
      "\n",
      "       P      Print  up  to  the first embedded newline of the current pattern\n",
      "              space.\n",
      "\n",
      "       s/regexp/replacement/\n",
      "              Attempt to match regexp against the pattern space.  If  success‐\n",
      "              ful,  replace  that  portion  matched with replacement.  The re‐\n",
      "              placement may contain the special character & to refer  to  that\n",
      "              portion  of the pattern space which matched, and the special es‐\n",
      "              capes \\1 through \\9 to refer to the corresponding matching  sub-\n",
      "              expressions in the regexp.\n",
      "\n",
      "       t label\n",
      "              If  a s/// has done a successful substitution since the last in‐\n",
      "              put line was read and since the last t or T command, then branch\n",
      "              to label; if label is omitted, branch to end of script.\n",
      "\n",
      "       T label\n",
      "              If no s/// has done a successful substitution since the last in‐\n",
      "              put line was read and since the last t or T command, then branch\n",
      "              to label; if label is omitted, branch to end of script.  This is\n",
      "              a GNU extension.\n",
      "\n",
      "       w filename\n",
      "              Write the current pattern space to filename.\n",
      "\n",
      "       W filename\n",
      "              Write the first line of the current pattern space  to  filename.\n",
      "              This is a GNU extension.\n",
      "\n",
      "       x      Exchange the contents of the hold and pattern spaces.\n",
      "\n",
      "       y/source/dest/\n",
      "              Transliterate  the  characters in the pattern space which appear\n",
      "              in source to the corresponding character in dest.\n",
      "\n",
      "Addresses\n",
      "       Sed commands can be given with no addresses, in which case the  command\n",
      "       will  be  executed for all input lines; with one address, in which case\n",
      "       the command will only be executed for input lines which match that  ad‐\n",
      "       dress;  or  with  two addresses, in which case the command will be exe‐\n",
      "       cuted for all input lines which match  the  inclusive  range  of  lines\n",
      "       starting  from  the first address and continuing to the second address.\n",
      "       Three things to note about address ranges: the  syntax  is  addr1,addr2\n",
      "       (i.e.,  the  addresses  are separated by a comma); the line which addr1\n",
      "       matched will always be accepted, even if addr2 selects an earlier line;\n",
      "       and  if  addr2 is a regexp, it will not be tested against the line that\n",
      "       addr1 matched.\n",
      "\n",
      "       After the address (or address-range), and before the command, a !   may\n",
      "       be inserted, which specifies that the command shall only be executed if\n",
      "       the address (or address-range) does not match.\n",
      "\n",
      "       The following address types are supported:\n",
      "\n",
      "       number Match only the specified line number (which  increments  cumula‐\n",
      "              tively  across  files,  unless the -s option is specified on the\n",
      "              command line).\n",
      "\n",
      "       first~step\n",
      "              Match every step'th line starting with line first.  For example,\n",
      "              ``sed -n 1~2p'' will print all the odd-numbered lines in the in‐\n",
      "              put stream, and the address 2~5 will  match  every  fifth  line,\n",
      "              starting  with the second.  first can be zero; in this case, sed\n",
      "              operates as if it were equal to step.  (This is an extension.)\n",
      "\n",
      "       $      Match the last line.\n",
      "\n",
      "       /regexp/\n",
      "              Match lines matching the regular expression regexp.  Matching is\n",
      "              performed  on  the  current pattern space, which can be modified\n",
      "              with commands such as ``s///''.\n",
      "\n",
      "       \\cregexpc\n",
      "              Match lines matching the regular expression regexp.  The  c  may\n",
      "              be any character.\n",
      "\n",
      "       GNU sed also supports some special 2-address forms:\n",
      "\n",
      "       0,addr2\n",
      "              Start  out  in  \"matched  first  address\"  state, until addr2 is\n",
      "              found.  This is similar to 1,addr2, except that if addr2 matches\n",
      "              the very first line of input the 0,addr2 form will be at the end\n",
      "              of its range, whereas the 1,addr2 form will still be at the  be‐\n",
      "              ginning  of  its range.  This works only when addr2 is a regular\n",
      "              expression.\n",
      "\n",
      "       addr1,+N\n",
      "              Will match addr1 and the N lines following addr1.\n",
      "\n",
      "       addr1,~N\n",
      "              Will match addr1 and the lines following addr1  until  the  next\n",
      "              line whose input line number is a multiple of N.\n",
      "\n",
      "REGULAR EXPRESSIONS\n",
      "       POSIX.2 BREs should be supported, but they aren't completely because of\n",
      "       performance problems.  The \\n sequence in a regular expression  matches\n",
      "       the  newline  character, and similarly for \\a, \\t, and other sequences.\n",
      "       The -E option switches to using extended regular  expressions  instead;\n",
      "       it  has  been  supported  for  years by GNU sed, and is now included in\n",
      "       POSIX.\n",
      "\n",
      "BUGS\n",
      "       E-mail bug reports to bug-sed@gnu.org.  Also, please include the output\n",
      "       of ``sed --version'' in the body of your report if at all possible.\n",
      "\n",
      "AUTHOR\n",
      "       Written by Jay Fenlason, Tom Lord, Ken Pizzini, Paolo Bonzini, Jim Mey‐\n",
      "       ering, and Assaf Gordon.\n",
      "\n",
      "       This sed program was built with SELinux support.  SELinux is enabled on\n",
      "       this system.\n",
      "\n",
      "       GNU  sed  home page: <https://www.gnu.org/software/sed/>.  General help\n",
      "       using GNU software: <https://www.gnu.org/gethelp/>.  E-mail bug reports\n",
      "       to: <bug-sed@gnu.org>.\n",
      "\n",
      "COPYRIGHT\n",
      "       Copyright  ©  2020  Free Software Foundation, Inc.  License GPLv3+: GNU\n",
      "       GPL version 3 or later <https://gnu.org/licenses/gpl.html>.\n",
      "       This is free software: you are free  to  change  and  redistribute  it.\n",
      "       There is NO WARRANTY, to the extent permitted by law.\n",
      "\n",
      "SEE ALSO\n",
      "       awk(1),  ed(1),  grep(1),  tr(1),  perlre(1),  sed.info, any of various\n",
      "       books on sed, the sed FAQ (http://sed.sf.net/grabbag/tutorials/sed‐\n",
      "       faq.txt), http://sed.sf.net/grabbag/.\n",
      "\n",
      "       The full documentation for sed is maintained as a Texinfo manual.  If\n",
      "       the info and sed programs are properly installed at your site, the com‐\n",
      "       mand\n",
      "\n",
      "              info sed\n",
      "\n",
      "       should give you access to the complete manual.\n",
      "\n",
      "sed 4.8                          January 2020                           SED(1)\n"
     ]
    }
   ],
   "source": [
    "man sed"
   ]
  },
  {
   "cell_type": "markdown",
   "id": "6a4e8e8d-91c8-4188-92b5-0c54e395a868",
   "metadata": {},
   "source": [
    "### A Practical Example\n",
    "\n",
    "In this section, we will do the following tasks purely from the terminal:\n",
    "\n",
    "1. Setup a project directory\n",
    "2. Download a FASTQ file from the SRA\n",
    "3. Inspect the sequencing data\n",
    "4. Extract the headers to a separate file"
   ]
  },
  {
   "cell_type": "markdown",
   "id": "e4850341-feef-4ccb-8ad7-8bc64ed74353",
   "metadata": {},
   "source": [
    "#### Creating A Project Directory"
   ]
  },
  {
   "cell_type": "markdown",
   "id": "a639de14-01ac-4584-ae7d-072d15689cc0",
   "metadata": {},
   "source": [
    "Invoke the `pwd` command to check your current path:"
   ]
  },
  {
   "cell_type": "code",
   "execution_count": 31,
   "id": "2f25bca1-1fe5-4740-9c98-521a005a18bf",
   "metadata": {},
   "outputs": [
    {
     "name": "stdout",
     "output_type": "stream",
     "text": [
      "/home/dagsdags/Downloads\n"
     ]
    }
   ],
   "source": [
    "pwd"
   ]
  },
  {
   "cell_type": "markdown",
   "id": "df1b1293-b733-48ab-b9e2-1ff087531753",
   "metadata": {},
   "source": [
    "I am currently in the `Downloads` directory, but I want to create my project within the home directory. Use the `cd` command to navigate to the home path:"
   ]
  },
  {
   "cell_type": "code",
   "execution_count": 32,
   "id": "737deeb6-4f25-4820-a405-06e49971b704",
   "metadata": {},
   "outputs": [],
   "source": [
    "cd ~"
   ]
  },
  {
   "cell_type": "markdown",
   "id": "eceab00c-476d-43b2-80db-878a1fa8825e",
   "metadata": {},
   "source": [
    "As mentioned in @path-symbols, tilde (`~`) is an alias to the home directory. Re-run `pwd` to verify that you are in the home directory:"
   ]
  },
  {
   "cell_type": "code",
   "execution_count": 33,
   "id": "c56297fe-681d-4438-ad73-bbf237ed6a7f",
   "metadata": {},
   "outputs": [
    {
     "name": "stdout",
     "output_type": "stream",
     "text": [
      "/home/dagsdags\n"
     ]
    }
   ],
   "source": [
    "pwd"
   ]
  },
  {
   "cell_type": "markdown",
   "id": "5ca5558f-ba2b-439c-9201-b64c6599b75d",
   "metadata": {},
   "source": [
    "We can now create a new separate folder for our project. To do this, run `mkdir` and pass in the folder name as an argument:"
   ]
  },
  {
   "cell_type": "code",
   "execution_count": 34,
   "id": "5ba4c6cc-bb14-4881-a3f1-0073b73f0bc3",
   "metadata": {},
   "outputs": [],
   "source": [
    "mkdir hello_linux"
   ]
  },
  {
   "cell_type": "markdown",
   "id": "9292c060-422e-4fff-aa59-ee30ffa5db19",
   "metadata": {},
   "source": [
    "Now enter into the new folder by invoking the `cd` command:"
   ]
  },
  {
   "cell_type": "code",
   "execution_count": null,
   "id": "396fedf5-9fd4-44e2-88c6-7044aa14a1a7",
   "metadata": {},
   "outputs": [],
   "source": [
    "cd hello_linux"
   ]
  },
  {
   "cell_type": "markdown",
   "id": "bc72ed79-5b98-4164-ad5e-f6e4ca5646d7",
   "metadata": {},
   "source": [
    "#### Retrieving Data from SRA\n",
    "\n",
    "For the data, we will be retrieving a subset of ASFV sequencing reads generated by <doi:10.1128/mra.00719-22>. It is hosted by NCBI thru the following links:\n",
    "\n",
    "- https://sra-downloadb.be-md.ncbi.nlm.nih.gov/sos4/sra-pub-run-30/SRR031/31340/SRR31340505/SRR31340505.1\n",
    "- https://trace.ncbi.nlm.nih.gov/Traces/index.html?view=run_browser&page_size=10&acc=SRR31340505&display=download\n",
    "\n",
    "The first link contains the full URL for the reads in binary format. Clicking on the link would prompt your system to download the compressed file. For this to be useful, we should \n",
    "\n",
    "Normally, we would enter the URL in the browser, navigate to the download button, then click it. You can do this by clicking on the second link above and looking for the _FASTQ_ button. As you can image, this becomes tedious when you want to download sequencing data from a few hundred runs. \n",
    "\n",
    "A way to automate this process is using the **SRA-Toolkit** which is a suite of programs used for retrieving data from the SRA. It includes the _prefetch_ program for retrieving reads in a compressed format (SRA Lite), and _fastq-dump_ for converting the the compressed reads into a human-readable text format (FASTQ). In most cases, you could skip `prefetch` and directly use `fastq-dump` if you have a list of SRA accessions (SRX*).\n",
    "\n",
    "Let's see the usage of `fastq-dump`:"
   ]
  },
  {
   "cell_type": "markdown",
   "id": "f6f678c9-7fb3-4472-bd1d-7944279a7fad",
   "metadata": {},
   "source": [
    "We need to pass in an `<accession>` of a sequencing run. We could also subset the data by specifying the number of spots to download (`-X`). Let's set this to 1000:"
   ]
  },
  {
   "cell_type": "code",
   "execution_count": 11,
   "id": "b3b140a5-2b24-4823-a42b-cefe4b79cfa1",
   "metadata": {},
   "outputs": [
    {
     "name": "stdout",
     "output_type": "stream",
     "text": [
      "Read 1000 spots for SRR31340505\n",
      "Written 1000 spots for SRR31340505\n"
     ]
    }
   ],
   "source": [
    "# SRA accession.\n",
    "SRR=SRR31340505\n",
    "\n",
    "# Number of spots.\n",
    "N=1000\n",
    "\n",
    "# Invoked fastq-dump.\n",
    "fastq-dump -X ${N} ${SRR}"
   ]
  },
  {
   "cell_type": "markdown",
   "id": "80d83220-952d-4312-a341-b29d498922b9",
   "metadata": {},
   "source": [
    "Run the `ls` command to verify that the download was completed."
   ]
  },
  {
   "cell_type": "code",
   "execution_count": 12,
   "id": "d6d846b9-e471-4193-861a-7a91530b7adc",
   "metadata": {
    "editable": true,
    "slideshow": {
     "slide_type": ""
    },
    "tags": []
   },
   "outputs": [
    {
     "name": "stdout",
     "output_type": "stream",
     "text": [
      " SRR31340505.fastq\n"
     ]
    }
   ],
   "source": [
    "ls -h SRR*"
   ]
  },
  {
   "cell_type": "markdown",
   "id": "91e4cd32-a151-4294-b87c-31db4ce5323f",
   "metadata": {},
   "source": [
    "Let us now add some structure to our working directory. It is often good practice to store all reads within a designated folder. Let's create a _reads_ directory using the `mkdir` command, then move our FASTQ file using `mv`."
   ]
  },
  {
   "cell_type": "code",
   "execution_count": 13,
   "id": "8cb8c84a-5ff6-4ab6-a0b4-10d1ba84dc8e",
   "metadata": {},
   "outputs": [],
   "source": [
    "# Create a reads directory.\n",
    "mkdir -p reads/\n",
    "\n",
    "# Move the file to the reads directory.\n",
    "mv SRR31340505.fastq reads/"
   ]
  },
  {
   "cell_type": "markdown",
   "id": "7fb8ce8a-d415-49c5-8ae4-7a0216f0fa04",
   "metadata": {
    "scrolled": true
   },
   "source": [
    "Verify the contents of the `reads` directory by re-running the `ls` command:"
   ]
  },
  {
   "cell_type": "code",
   "execution_count": 14,
   "id": "5cc86348-d6d1-4221-877e-d852e48f63f0",
   "metadata": {},
   "outputs": [
    {
     "name": "stdout",
     "output_type": "stream",
     "text": [
      " SRR31340505.fastq\n"
     ]
    }
   ],
   "source": [
    "ls reads/"
   ]
  },
  {
   "cell_type": "markdown",
   "id": "aa261ba2-745e-42c1-bb33-df9a35c9cf6c",
   "metadata": {},
   "source": [
    "#### Exploring the FASTQ File"
   ]
  },
  {
   "cell_type": "markdown",
   "id": "345bc2aa-d3dc-4e48-919a-d797a1d25263",
   "metadata": {},
   "source": [
    "Now that we've introduced nesting to our project directory, writing the path to our FASTQ file has become more tedious. We can make accessing this file easier by storing its path to a **variable**. To do this, we _initialize_ a variable name and then attach a value to it using the assignment operator (`=`).\n",
    "\n",
    "As an example, let's store the path of our FASTQ file to a variable named _fq_:"
   ]
  },
  {
   "cell_type": "code",
   "execution_count": 1,
   "id": "fe87e988-ccd6-4be5-96f6-48968da78c56",
   "metadata": {},
   "outputs": [],
   "source": [
    "fq=reads/SRR31340505.fastq"
   ]
  },
  {
   "cell_type": "markdown",
   "id": "c5c09fae-e57e-412a-8182-c4ec8ceb3abd",
   "metadata": {},
   "source": [
    "We can access the value of the variable as follows:"
   ]
  },
  {
   "cell_type": "code",
   "execution_count": 2,
   "id": "5336da7a-9617-487b-95a3-0f095b839e62",
   "metadata": {},
   "outputs": [
    {
     "name": "stdout",
     "output_type": "stream",
     "text": [
      "reads/SRR31340505.fastq\n"
     ]
    }
   ],
   "source": [
    "echo $fq"
   ]
  },
  {
   "cell_type": "markdown",
   "id": "5d519aa2-eba8-4dd0-b510-0a4aa966200f",
   "metadata": {},
   "source": [
    "To print out the contents of the FASTQ file, we can use the `cat` command. This program accepts a filepath as its first positional argument as seen below:\n",
    "```{code} bash\n",
    "cat reads/SRR31340505.fastq\n",
    "```\n",
    "\n",
    "Let's use our variable instead of re-typing the entire path:\n",
    "```{code} bash\n",
    "cat $fq\n",
    "```"
   ]
  },
  {
   "cell_type": "markdown",
   "id": "8c688df8-2660-440f-9d64-58f275e9b3f7",
   "metadata": {},
   "source": [
    ":::{warning}\n",
    "Do not run the `cat` program below. It would print the contents of the entire FASTQ file in your terminal which is around 4000 lines.\n",
    ":::"
   ]
  },
  {
   "cell_type": "markdown",
   "id": "caabc7d5-ef71-457c-bb10-338592fc7dbf",
   "metadata": {},
   "source": [
    "Running the `cat` command on our FASTQ file will output the contents of the file to _standard output_, which is just another way of saying that the data will be printed in your console. This is not that useful as it is hard to inspect the output. Instead, we could redirect the output of `cat` to another program called `head` to allow us to inspect only the first few lines of the read file. This is done using the **pipe** operator (`|`):"
   ]
  },
  {
   "cell_type": "code",
   "execution_count": 3,
   "id": "c7bde1f5-7f2f-4f50-8f75-84d8151e19dd",
   "metadata": {},
   "outputs": [
    {
     "name": "stdout",
     "output_type": "stream",
     "text": [
      "@SRR31340505.1 64c24fe2-0b6d-4128-8c18-d29740c4a838 length=432\n",
      "GCCCCCTAGCGTCACCGAGGTCAGGACGGAGAAGTTCGATGACAGCTCGATCCAGGTGCGCTGTGCCGCGGCGTCCCTGGCTTCCTTCTGTGGTTCTTGGGTTCCGTGGGCGCCGCTGGGAGCGCAGGGCCTGCCTCGTGCCTGAGGAGATAAACGTCGCGGCCTCGGAGCCCCTGTCGGCAGTTGGTTGGCGCTGGGGCCCTCTCTTGCTTCGTTGTGGGTTGTGTGCAAAGCTCCGCCTCCGGAGTCCTCTGAGCCTTGGCTTTTCTCCGGCGGCCTGGCGGGCTTCTAGTCTGTTTCCAGGTCGGGGAGTCAGCCTGTGTGGACGCGCCCGTCGCGGGCCGGCGCGCAGGGTAGGAGGCCTTCAGCGACTGGGGCTAAATGCTGGCCGAGCACGGTGCTGGGGCGCTACCACAGCAGAGCTTCGCAGTG\n",
      "+SRR31340505.1 64c24fe2-0b6d-4128-8c18-d29740c4a838 length=432\n",
      "=>==<=>>;><<<<<;<99433+****2689:;<=9A@?>>>>65556@??>2+++,,6?A??>>>;:;99:98:;506;<>==<..?>>1115?=<>?><<===<=755569;;;8;/.-----/.-.)39:;;<===>==..8<:658:;:,++++47655546-----/./--.199:65688?===::9:8:889:9:04,,+2)(/6<;:999:;:::;<<242.+)()+,.167<=*((,++-++--3287323367;<???==<));::;<67><653346;:////098::<=87555112.1:<<;::;;;=><=;:9/..--3678;=:555559:;:63&&&&''''()2339:<;;<=<=<<<=<<:<;876000122.----325668::41),&&%$%%$%%%%(()11229''&%%%\n",
      "@SRR31340505.2 990dc2b3-1a0b-4b3d-9082-248a77f64af0 length=359\n",
      "AGACGTTTTAGCTGCATGGCATCCACTGCAGTCAATCGGGATCCATTGTGACATTGCAGGGAAACAACTGCATTCAATCGACATCCATTGCGCCATGCTGCATGGAATCCACTGCATTCAATTGGGATTCATTGGGCCTCACTGCATGGAATATACTGCGTTCAATCGAGATCCATTCAGCCACGCTGCATGGAATCCACTGCATTCAATCGGGATCCATTTAGCCATGCTTCTTAAGATACACGTTCATTCGGGATGCATTTTACCATCCTGCATGGAATCCACTGCATTCAGTGATGCTGCATGGAATGCACTACCTTCAATCAGGATGCTTTGGGCCATGCAGCTTAAAACGTCTA\n",
      "+SRR31340505.2 990dc2b3-1a0b-4b3d-9082-248a77f64af0 length=359\n",
      ":;==989<=:0//54146889:9::99::99:;<=>??99998;<<<>>???5*,421--/+4345557:9:;;:1226555:;;;<<<=<87777<;<;;;=<<;;9:;669:<=>?><::;::55455:==<:977788;===<<;::;;;<=<<<<9::=?CC@666::;5559>-----98::99:;;:9::9<;;:;;;==>==>>100/08:;;;>?><;<<<::::551-----.//'');;>>94434478999;;3203358><<<<;:::;:;:99999:;<000009=;::9:<<<<<<;;;:88778899::=,,,,,;<<<<<;:999:;<<;9::;<BB=;;998\n",
      "@SRR31340505.3 2bacc2d6-1cd0-4350-adaf-ee83368b47d2 length=176\n",
      "TCTCCGATTTTCGCATGTAAATTAAACCAAAAAAAAAAAAAAAAAGCAATCCAGAGTCCACAAGTTGACTTGGTTCAGAAAGCCCAGTGAGGGGATGAGGCAGTGTGGATCAAGAGGATCTTCTGTTGTCCTTTCCAGAATATTTATGGACGGGTTGAAAAGAGATTTGCATCGTA\n"
     ]
    }
   ],
   "source": [
    "cat $fq | head "
   ]
  },
  {
   "cell_type": "markdown",
   "id": "78d48200-ed17-4a62-9ffd-904ee91eef78",
   "metadata": {},
   "source": [
    "A more succint way to use the `head` program is by passing in the filepath directly:"
   ]
  },
  {
   "cell_type": "code",
   "execution_count": 4,
   "id": "7a4c90e4-4bd2-4552-8b4c-568c4e0d5d7f",
   "metadata": {},
   "outputs": [
    {
     "name": "stdout",
     "output_type": "stream",
     "text": [
      "@SRR31340505.1 64c24fe2-0b6d-4128-8c18-d29740c4a838 length=432\n",
      "GCCCCCTAGCGTCACCGAGGTCAGGACGGAGAAGTTCGATGACAGCTCGATCCAGGTGCGCTGTGCCGCGGCGTCCCTGGCTTCCTTCTGTGGTTCTTGGGTTCCGTGGGCGCCGCTGGGAGCGCAGGGCCTGCCTCGTGCCTGAGGAGATAAACGTCGCGGCCTCGGAGCCCCTGTCGGCAGTTGGTTGGCGCTGGGGCCCTCTCTTGCTTCGTTGTGGGTTGTGTGCAAAGCTCCGCCTCCGGAGTCCTCTGAGCCTTGGCTTTTCTCCGGCGGCCTGGCGGGCTTCTAGTCTGTTTCCAGGTCGGGGAGTCAGCCTGTGTGGACGCGCCCGTCGCGGGCCGGCGCGCAGGGTAGGAGGCCTTCAGCGACTGGGGCTAAATGCTGGCCGAGCACGGTGCTGGGGCGCTACCACAGCAGAGCTTCGCAGTG\n",
      "+SRR31340505.1 64c24fe2-0b6d-4128-8c18-d29740c4a838 length=432\n",
      "=>==<=>>;><<<<<;<99433+****2689:;<=9A@?>>>>65556@??>2+++,,6?A??>>>;:;99:98:;506;<>==<..?>>1115?=<>?><<===<=755569;;;8;/.-----/.-.)39:;;<===>==..8<:658:;:,++++47655546-----/./--.199:65688?===::9:8:889:9:04,,+2)(/6<;:999:;:::;<<242.+)()+,.167<=*((,++-++--3287323367;<???==<));::;<67><653346;:////098::<=87555112.1:<<;::;;;=><=;:9/..--3678;=:555559:;:63&&&&''''()2339:<;;<=<=<<<=<<:<;876000122.----325668::41),&&%$%%$%%%%(()11229''&%%%\n",
      "@SRR31340505.2 990dc2b3-1a0b-4b3d-9082-248a77f64af0 length=359\n",
      "AGACGTTTTAGCTGCATGGCATCCACTGCAGTCAATCGGGATCCATTGTGACATTGCAGGGAAACAACTGCATTCAATCGACATCCATTGCGCCATGCTGCATGGAATCCACTGCATTCAATTGGGATTCATTGGGCCTCACTGCATGGAATATACTGCGTTCAATCGAGATCCATTCAGCCACGCTGCATGGAATCCACTGCATTCAATCGGGATCCATTTAGCCATGCTTCTTAAGATACACGTTCATTCGGGATGCATTTTACCATCCTGCATGGAATCCACTGCATTCAGTGATGCTGCATGGAATGCACTACCTTCAATCAGGATGCTTTGGGCCATGCAGCTTAAAACGTCTA\n",
      "+SRR31340505.2 990dc2b3-1a0b-4b3d-9082-248a77f64af0 length=359\n",
      ":;==989<=:0//54146889:9::99::99:;<=>??99998;<<<>>???5*,421--/+4345557:9:;;:1226555:;;;<<<=<87777<;<;;;=<<;;9:;669:<=>?><::;::55455:==<:977788;===<<;::;;;<=<<<<9::=?CC@666::;5559>-----98::99:;;:9::9<;;:;;;==>==>>100/08:;;;>?><;<<<::::551-----.//'');;>>94434478999;;3203358><<<<;:::;:;:99999:;<000009=;::9:<<<<<<;;;:88778899::=,,,,,;<<<<<;:999:;<<;9::;<BB=;;998\n",
      "@SRR31340505.3 2bacc2d6-1cd0-4350-adaf-ee83368b47d2 length=176\n",
      "TCTCCGATTTTCGCATGTAAATTAAACCAAAAAAAAAAAAAAAAAGCAATCCAGAGTCCACAAGTTGACTTGGTTCAGAAAGCCCAGTGAGGGGATGAGGCAGTGTGGATCAAGAGGATCTTCTGTTGTCCTTTCCAGAATATTTATGGACGGGTTGAAAAGAGATTTGCATCGTA\n"
     ]
    }
   ],
   "source": [
    "head $fq"
   ]
  },
  {
   "cell_type": "markdown",
   "id": "331b86cf-dabc-45dc-9dfb-6515c655aafd",
   "metadata": {},
   "source": [
    "Redirecting the **output** of one program as the **input** to another program is common practice in Linux. A _pipeline_ is created when we combine multiple programs to perform complex operations on our initial data. The pipe operator (called so due to its appearance) serves as the bridge that connects the programs with one another.\n",
    "\n",
    ":::{aside}\n",
    "```{mermaid}\n",
    "%%| fig-align: center\n",
    "flowchart LR\n",
    "  input[Input] -- \"pipe\" --> output[Output]\n",
    "```\n",
    ":::"
   ]
  },
  {
   "cell_type": "markdown",
   "id": "f57ebe31-7a15-4077-8ada-db67543886cd",
   "metadata": {},
   "source": [
    "We could specify the number of lines by using the `-n` flag, followed by a number. Let's limit the output to only the first read:"
   ]
  },
  {
   "cell_type": "code",
   "execution_count": 6,
   "id": "8e3eaad4-ca4d-4a7d-bd07-d857e2dcd5ad",
   "metadata": {},
   "outputs": [
    {
     "name": "stdout",
     "output_type": "stream",
     "text": [
      "@SRR31340505.1 64c24fe2-0b6d-4128-8c18-d29740c4a838 length=432\n",
      "GCCCCCTAGCGTCACCGAGGTCAGGACGGAGAAGTTCGATGACAGCTCGATCCAGGTGCGCTGTGCCGCGGCGTCCCTGGCTTCCTTCTGTGGTTCTTGGGTTCCGTGGGCGCCGCTGGGAGCGCAGGGCCTGCCTCGTGCCTGAGGAGATAAACGTCGCGGCCTCGGAGCCCCTGTCGGCAGTTGGTTGGCGCTGGGGCCCTCTCTTGCTTCGTTGTGGGTTGTGTGCAAAGCTCCGCCTCCGGAGTCCTCTGAGCCTTGGCTTTTCTCCGGCGGCCTGGCGGGCTTCTAGTCTGTTTCCAGGTCGGGGAGTCAGCCTGTGTGGACGCGCCCGTCGCGGGCCGGCGCGCAGGGTAGGAGGCCTTCAGCGACTGGGGCTAAATGCTGGCCGAGCACGGTGCTGGGGCGCTACCACAGCAGAGCTTCGCAGTG\n",
      "+SRR31340505.1 64c24fe2-0b6d-4128-8c18-d29740c4a838 length=432\n",
      "=>==<=>>;><<<<<;<99433+****2689:;<=9A@?>>>>65556@??>2+++,,6?A??>>>;:;99:98:;506;<>==<..?>>1115?=<>?><<===<=755569;;;8;/.-----/.-.)39:;;<===>==..8<:658:;:,++++47655546-----/./--.199:65688?===::9:8:889:9:04,,+2)(/6<;:999:;:::;<<242.+)()+,.167<=*((,++-++--3287323367;<???==<));::;<67><653346;:////098::<=87555112.1:<<;::;;;=><=;:9/..--3678;=:555559:;:63&&&&''''()2339:<;;<=<=<<<=<<:<;876000122.----325668::41),&&%$%%$%%%%(()11229''&%%%\n"
     ]
    }
   ],
   "source": [
    "head -n 4 $fq"
   ]
  },
  {
   "cell_type": "markdown",
   "id": "bc1a6c08-6319-4f4d-8f06-38e0df8da5ec",
   "metadata": {},
   "source": [
    "To inspect the last few lines of the file, we instead use the `tail` command:"
   ]
  },
  {
   "cell_type": "code",
   "execution_count": 7,
   "id": "bf15f530-d8c3-4867-bff3-0c1a4cae7429",
   "metadata": {},
   "outputs": [
    {
     "name": "stdout",
     "output_type": "stream",
     "text": [
      "@SRR31340505.1000 050cbd71-f461-4ab9-b683-528e272567dd length=374\n",
      "GTCGACACCACCTGGGAACAACGGGAATGGGGTGATATTTTTCTATGAGGTTATACCGCTGCAAATCCTTTTAAACCTGCTAAAAACATCTTCCCTTGGTGGGTTATCAAAAGGAAAGCAAAATGCTAGGTGTAGCCCGGCCCGCTTTGGTAATCGGGGTGAATGATTTTAGGTTTTTATACGTTAATGTGGGTATGGTGTTAAAGATATTGGGGCACTATATGAAAGGTCAGCAACCCACACAAAGTCCGTGCGCGCCCGCATGGTCTGCACATGGATGGCGCGCACCGTGCCCTCCTGCTTGAAGCCAGCATACAAAATGTCAACTTAAGTTCTGTTGAGCGTCCTCAACGTGTTTTGTGTAAAGCGGGTAA\n",
      "+SRR31340505.1000 050cbd71-f461-4ab9-b683-528e272567dd length=374\n",
      "06875+&&&&()..///3;;<=55446222300123551?CCF=<<;>:879;<@>=<;;<==>;3;988:@?965777:<===>@=?>:::993242489::;;<<>00/(,-..,,....580155323557.-.225698.--,.-/169@?33323;110*(()++2***6:<>@B54323643232101355+++++>@=;;;99993333+('''2..--*))))))+**-.6-02113)(-/4//344?<;<7333355557<=222229:9/00015666744///-))$$$%&''('(()&$$$#%***+24786,)((('&%&*-,-,,(('&&',5555.---.66::<=<;;=;;:10/.(&\n"
     ]
    }
   ],
   "source": [
    "tail -n 4 $fq"
   ]
  },
  {
   "cell_type": "markdown",
   "id": "8db57b09-4436-4a2f-9262-78b3f947493f",
   "metadata": {},
   "source": [
    "#### Extracting the Header Lines\n",
    "\n",
    "Sequencing reads are stored in chunks of four lines in a FASTQ file:\n",
    "\n",
    "1. metadata associated with the read (header line)\n",
    "2. the nucleotide sequence of the read\n",
    "3. a delimiter (denoted by `+`)\n",
    "4. a confidence score for each position of the read\n"
   ]
  },
  {
   "cell_type": "markdown",
   "id": "0bcc86f8-867a-4256-b9f5-cf4ccb7dbd15",
   "metadata": {},
   "source": [
    "We can use the `awk`, a scripting language for text processing tasks, to filter out the FASTQ file line-by-line. The line `FNR==n` tells `awk` to print the contents of the _n_{sup}`th` line:"
   ]
  },
  {
   "cell_type": "code",
   "execution_count": 8,
   "id": "794c3d05-3d28-4544-8a9a-86056d15a255",
   "metadata": {},
   "outputs": [
    {
     "name": "stdout",
     "output_type": "stream",
     "text": [
      "@SRR31340505.1 64c24fe2-0b6d-4128-8c18-d29740c4a838 length=432\n"
     ]
    }
   ],
   "source": [
    "# Header line or read metadata\n",
    "cat $fq | awk 'FNR==1' "
   ]
  },
  {
   "cell_type": "code",
   "execution_count": 9,
   "id": "44b19b5d-2052-4dbd-973f-1d1a70d08e52",
   "metadata": {},
   "outputs": [
    {
     "name": "stdout",
     "output_type": "stream",
     "text": [
      "GCCCCCTAGCGTCACCGAGGTCAGGACGGAGAAGTTCGATGACAGCTCGATCCAGGTGCGCTGTGCCGCGGCGTCCCTGGCTTCCTTCTGTGGTTCTTGGGTTCCGTGGGCGCCGCTGGGAGCGCAGGGCCTGCCTCGTGCCTGAGGAGATAAACGTCGCGGCCTCGGAGCCCCTGTCGGCAGTTGGTTGGCGCTGGGGCCCTCTCTTGCTTCGTTGTGGGTTGTGTGCAAAGCTCCGCCTCCGGAGTCCTCTGAGCCTTGGCTTTTCTCCGGCGGCCTGGCGGGCTTCTAGTCTGTTTCCAGGTCGGGGAGTCAGCCTGTGTGGACGCGCCCGTCGCGGGCCGGCGCGCAGGGTAGGAGGCCTTCAGCGACTGGGGCTAAATGCTGGCCGAGCACGGTGCTGGGGCGCTACCACAGCAGAGCTTCGCAGTG\n"
     ]
    }
   ],
   "source": [
    "# Nucleotide sequence\n",
    "cat $fq | awk 'FNR==2' "
   ]
  },
  {
   "cell_type": "code",
   "execution_count": 10,
   "id": "5ac3f213-610e-4a17-8b1f-bac6a1bee4b6",
   "metadata": {},
   "outputs": [
    {
     "name": "stdout",
     "output_type": "stream",
     "text": [
      "+SRR31340505.1 64c24fe2-0b6d-4128-8c18-d29740c4a838 length=432\n"
     ]
    }
   ],
   "source": [
    "# A delimiter which is the same as the header line\n",
    "cat $fq | awk 'FNR==3' "
   ]
  },
  {
   "cell_type": "code",
   "execution_count": 13,
   "id": "3ab2d680-0458-4530-a637-2c33b1f9a643",
   "metadata": {},
   "outputs": [
    {
     "name": "stdout",
     "output_type": "stream",
     "text": [
      "=>==<=>>;><<<<<;<99433+****2689:;<=9A@?>>>>65556@??>2+++,,6?A??>>>;:;99:98:;506;<>==<..?>>1115?=<>?><<===<=755569;;;8;/.-----/.-.)39:;;<===>==..8<:658:;:,++++47655546-----/./--.199:65688?===::9:8:889:9:04,,+2)(/6<;:999:;:::;<<242.+)()+,.167<=*((,++-++--3287323367;<???==<));::;<67><653346;:////098::<=87555112.1:<<;::;;;=><=;:9/..--3678;=:555559:;:63&&&&''''()2339:<;;<=<=<<<=<<:<;876000122.----325668::41),&&%$%%$%%%%(()11229''&%%%\n"
     ]
    }
   ],
   "source": [
    "# Phred33-encoded confidence scores\n",
    "cat $fq | awk 'FNR==4' "
   ]
  },
  {
   "cell_type": "markdown",
   "id": "a4a3866b-aa7f-4ee3-87db-6d026d9f7742",
   "metadata": {},
   "source": [
    "Each header line is prefixed with an `@` symbol, followed by the read accession number (SRR31340505). To extract all headers, we use the `grep` tool which scans each line of the file and only prints the output if it matches our specified pattern:"
   ]
  },
  {
   "cell_type": "code",
   "execution_count": 14,
   "id": "9d1bd925-1381-47b6-bac6-3775e7ed50e7",
   "metadata": {
    "scrolled": true
   },
   "outputs": [
    {
     "name": "stdout",
     "output_type": "stream",
     "text": [
      "@SRR31340505.1 64c24fe2-0b6d-4128-8c18-d29740c4a838 length=432\n",
      "@SRR31340505.2 990dc2b3-1a0b-4b3d-9082-248a77f64af0 length=359\n",
      "@SRR31340505.3 2bacc2d6-1cd0-4350-adaf-ee83368b47d2 length=176\n",
      "@SRR31340505.4 673843c3-f1d9-4b01-a64a-e6d8ac8918d9 length=174\n",
      "@SRR31340505.5 42386295-1bbd-4dec-94f7-a45b91b110b2 length=188\n",
      "@SRR31340505.6 9e5c8eec-0367-4757-ab60-eb3fdc299a6d length=240\n",
      "@SRR31340505.7 e44c2b35-4476-4177-b1df-8098a78e99d2 length=248\n",
      "@SRR31340505.8 e3ed03db-2051-4a44-8b28-bd8589d16c5d length=98\n",
      "@SRR31340505.9 16377107-7359-475e-81f0-a047f88e7dd4 length=178\n",
      "@SRR31340505.10 66a95941-638d-4d31-94a9-af394a2b72bf length=149\n"
     ]
    }
   ],
   "source": [
    "cat $fq | grep \"^@SRR\" | head"
   ]
  },
  {
   "cell_type": "markdown",
   "id": "6ff9fef7-5e5f-498e-b603-b967a6a1671b",
   "metadata": {},
   "source": [
    "The pattern `^@SRR` tells `grep` to only print out lines that **start with \\@SRR**.\n",
    "\n",
    "To count the number of reads, we could pipe the `grep` output to `wc` which stands for _word count_. We specify the `-l` flag to tell `wc` to count by line:"
   ]
  },
  {
   "cell_type": "code",
   "execution_count": 15,
   "id": "46ab8e23-706c-4d55-afe5-e2694ae863c7",
   "metadata": {},
   "outputs": [
    {
     "name": "stdout",
     "output_type": "stream",
     "text": [
      "1000\n"
     ]
    }
   ],
   "source": [
    "cat $fq | grep \"^@SRR\" | wc -l"
   ]
  },
  {
   "cell_type": "markdown",
   "id": "e3923e8b-683b-4e6c-be54-6d645aab5fee",
   "metadata": {},
   "source": [
    "To make our counting more robust, we should make sure that we only increment our count if the read is **unique**. Let's use `uniq` to filter out duplicates:"
   ]
  },
  {
   "cell_type": "code",
   "execution_count": 16,
   "id": "2fe360b9-a4ad-4aa4-b71e-ee94097a13f0",
   "metadata": {},
   "outputs": [
    {
     "name": "stdout",
     "output_type": "stream",
     "text": [
      "1000\n"
     ]
    }
   ],
   "source": [
    "cat $fq | grep \"^@SRR\" | uniq | wc -l"
   ]
  },
  {
   "cell_type": "markdown",
   "id": "c7396258-8f5c-49ab-8396-ca1dd12b47ea",
   "metadata": {},
   "source": [
    "It seems that the FASTQ file doesn't have duplicates. As specified by the `-X` flag, we can verify that we have successfully downloaded 1000 reads using `fastq-dump`."
   ]
  },
  {
   "cell_type": "markdown",
   "id": "5a73a163-721f-4c32-9b36-34861257a895",
   "metadata": {},
   "source": [
    "We can now save the output of our pipeline to a separate text file. To do so, we use the **redirect** operator (`>`):"
   ]
  },
  {
   "cell_type": "code",
   "execution_count": 2,
   "id": "f142ed1c-ba01-47e8-a46f-70cc009dd73d",
   "metadata": {},
   "outputs": [],
   "source": [
    "cat $fq | grep \"^@SRR\" | uniq > headers.txt"
   ]
  },
  {
   "cell_type": "markdown",
   "id": "7161dbf5-055a-40a5-b5a7-fbc9a4e3f8d2",
   "metadata": {},
   "source": [
    "Verify the contents of _headers.txt_:"
   ]
  },
  {
   "cell_type": "code",
   "execution_count": 3,
   "id": "534a4cc3-5880-4165-ac29-ce2a7e0d4b17",
   "metadata": {},
   "outputs": [
    {
     "name": "stdout",
     "output_type": "stream",
     "text": [
      "@SRR31340505.1 64c24fe2-0b6d-4128-8c18-d29740c4a838 length=432\n",
      "@SRR31340505.2 990dc2b3-1a0b-4b3d-9082-248a77f64af0 length=359\n",
      "@SRR31340505.3 2bacc2d6-1cd0-4350-adaf-ee83368b47d2 length=176\n",
      "@SRR31340505.4 673843c3-f1d9-4b01-a64a-e6d8ac8918d9 length=174\n",
      "@SRR31340505.5 42386295-1bbd-4dec-94f7-a45b91b110b2 length=188\n",
      "@SRR31340505.6 9e5c8eec-0367-4757-ab60-eb3fdc299a6d length=240\n",
      "@SRR31340505.7 e44c2b35-4476-4177-b1df-8098a78e99d2 length=248\n",
      "@SRR31340505.8 e3ed03db-2051-4a44-8b28-bd8589d16c5d length=98\n",
      "@SRR31340505.9 16377107-7359-475e-81f0-a047f88e7dd4 length=178\n",
      "@SRR31340505.10 66a95941-638d-4d31-94a9-af394a2b72bf length=149\n",
      "@SRR31340505.11 ef1f7099-0a4a-4daa-8f78-7a1fd42ef30d length=776\n",
      "@SRR31340505.12 be692f91-8ebc-4fa5-8b07-cfb2600519f3 length=202\n",
      "@SRR31340505.13 b3b9da0e-4fad-4818-a19d-c075b8c4c2ad length=297\n",
      "@SRR31340505.14 9c3390b8-9982-4a27-9697-d70e94763960 length=137\n",
      "@SRR31340505.15 4287a7f3-665e-4b05-8fd3-8759de8138eb length=3873\n",
      "@SRR31340505.16 80e03833-e4ff-45ed-acca-dff5a28e395c length=7040\n",
      "@SRR31340505.17 d9597e1c-0285-4431-8f17-a9b1b25c73ce length=458\n",
      "@SRR31340505.18 11e1346c-fe7d-4808-a00f-96a981a890f2 length=6979\n",
      "@SRR31340505.19 5dc149cc-f20d-48d3-941d-924d225f8a7f length=1965\n",
      "@SRR31340505.20 fc4233ae-a85b-47cc-aad3-0c16199ce963 length=6280\n"
     ]
    }
   ],
   "source": [
    "head -n 20 headers.txt"
   ]
  },
  {
   "cell_type": "markdown",
   "id": "db0dfc46-624b-482f-a78d-d03072983e75",
   "metadata": {},
   "source": [
    "### Exercise\n",
    "\n",
    "From the given FASTQ file, write a pipeline to extract the length of each read. Since we have 1000 reads, we expect to extract a list of 1000 numbers.\n",
    "\n",
    "````{hint} Solution\n",
    ":class: dropdown\n",
    "\n",
    "The length of each read is stored in the header line. We build upon our previous pipeline and extract a list of header lines:\n",
    "```{code} bash\n",
    "# Store FASTQ file in a variable.\n",
    "fq=reads/SRR31340505.fastq\n",
    "\n",
    "# Extract header line and keep only column containing read lengths.\n",
    "cat $fq \\             # print FASTA content to stdout\n",
    "  | grep \"^@SRR\" \\    # only keep lines starting with \"@SRR\"\n",
    "  | uniq \\            # retain unique lines\n",
    "  | cut -d \" \" -f 3 \\ # split content using a whitespace as delimiter, keep only third column\n",
    "  | cut -d \"=\" -f 2  # split content using a \"=\" delimiter, keep only second column\n",
    "\n",
    "```\n",
    "````"
   ]
  },
  {
   "cell_type": "code",
   "execution_count": null,
   "id": "435ad943-90ba-4648-b0f4-64c95e054fc6",
   "metadata": {},
   "outputs": [],
   "source": []
  }
 ],
 "metadata": {
  "kernelspec": {
   "display_name": "Bash",
   "language": "bash",
   "name": "bash"
  },
  "language_info": {
   "codemirror_mode": "shell",
   "file_extension": ".sh",
   "mimetype": "text/x-sh",
   "name": "bash"
  }
 },
 "nbformat": 4,
 "nbformat_minor": 5
}
